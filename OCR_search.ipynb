{
 "cells": [
  {
   "cell_type": "code",
   "execution_count": 18,
   "id": "953c4826-b6da-4e17-bbb0-f5a781fb744b",
   "metadata": {},
   "outputs": [
    {
     "name": "stdout",
     "output_type": "stream",
     "text": [
      "^C\n",
      "Defaulting to user installation because normal site-packages is not writeable\n",
      "Requirement already satisfied: pytesseract in c:\\users\\c4chen\\appdata\\roaming\\python\\python312\\site-packages (0.3.13)\n",
      "Requirement already satisfied: packaging>=21.3 in z:\\software\\anaconda\\lib\\site-packages (from pytesseract) (24.1)\n",
      "Requirement already satisfied: Pillow>=8.0.0 in z:\\software\\anaconda\\lib\\site-packages (from pytesseract) (10.4.0)\n",
      "Defaulting to user installation because normal site-packages is not writeable\n",
      "Requirement already satisfied: opencv-python in c:\\users\\c4chen\\appdata\\roaming\\python\\python312\\site-packages (4.11.0.86)\n",
      "Requirement already satisfied: numpy>=1.21.2 in z:\\software\\anaconda\\lib\\site-packages (from opencv-python) (1.26.4)\n",
      " 驱动器 Z 中的卷是 Database\n",
      " 卷的序列号是 7CE8-4982\n",
      "\n",
      " Z:\\Coding\\YAS_testing 的目录\n",
      "\n",
      "2025/02/17  23:28    <DIR>          .\n",
      "2025/02/17  23:28    <DIR>          ..\n",
      "2025/02/17  21:59    <DIR>          .ipynb_checkpoints\n",
      "2025/02/17  22:10         1,177,648 1.png\n",
      "2025/02/06  22:13             5,165 artifacts-01-mod-output.xlsx\n",
      "2025/02/06  22:51            49,757 artifacts-01-mod.xlsx\n",
      "2025/02/06  21:20            48,416 artifacts-01.xlsx\n",
      "2025/02/05  22:06            64,814 artifacts.xlsx\n",
      "2025/02/05  21:49           217,049 mona.json\n",
      "2025/02/17  23:28           110,565 OCR_search.ipynb\n",
      "2025/02/17  21:50            60,652 somethingDoing.ipynb\n",
      "               8 个文件      1,734,066 字节\n",
      "               3 个目录 187,982,770,176 可用字节\n"
     ]
    }
   ],
   "source": [
    "!pip install cnocr\n",
    "!pip install pytesseract\n",
    "!pip install opencv-python\n",
    "!dir"
   ]
  },
  {
   "cell_type": "code",
   "execution_count": 9,
   "id": "ed1d377c-5830-443a-b993-e500a2b46a58",
   "metadata": {},
   "outputs": [
    {
     "name": "stderr",
     "output_type": "stream",
     "text": [
      "[WARNING 2025-02-18 22:56:04,136 _showwarnmsg:112] C:\\Users\\C4Chen\\AppData\\Local\\Temp\\ipykernel_22016\\3147120082.py:26: UserWarning: FigureCanvasAgg is non-interactive, and thus cannot be shown\n",
      "  plt.show()\n",
      " \n"
     ]
    },
    {
     "name": "stdout",
     "output_type": "stream",
     "text": [
      "提取的信息：\n",
      "未找到相关信息\n",
      "按字典序排列后的信息：\n",
      "未找到相关信息\n"
     ]
    }
   ],
   "source": [
    "import cv2\n",
    "import pytesseract\n",
    "import re\n",
    "import os\n",
    "import matplotlib.pyplot as plt\n",
    "\n",
    "# 设置Tesseract的路径（Windows下需要）\n",
    "pytesseract.pytesseract.tesseract_cmd = r'Z:\\Software\\OCR\\tesseract.exe'\n",
    "\n",
    "def processImage(img_path):\n",
    "    # 读取图像\n",
    "    image_path = img_path  # 替换为你的图片路径\n",
    "    image = cv2.imread(image_path)\n",
    "    \n",
    "    if not os.path.exists(img_path):\n",
    "        print(f\"文件不存在: {img_path}\")\n",
    "        return\n",
    "        \n",
    "    if image is None:\n",
    "        print(f\"无法读取图像: {img_path}\")\n",
    "        return\n",
    "\n",
    "    # 使用 matplotlib 显示图像\n",
    "    plt.imshow(image)\n",
    "    plt.axis('off')  # 关闭坐标轴\n",
    "    plt.show()\n",
    "        \n",
    "    # 转换为灰度图像\n",
    "    gray_image = cv2.cvtColor(image, cv2.COLOR_BGR2GRAY)\n",
    "    \n",
    "    # 二值化处理\n",
    "    _, binary_image = cv2.threshold(gray_image, 128, 255, cv2.THRESH_BINARY | cv2.THRESH_OTSU)\n",
    "    \n",
    "    # 使用pytesseract进行OCR识别\n",
    "    custom_config = r'--oem 3 --psm 6'\n",
    "    text = pytesseract.image_to_string(binary_image, config=custom_config)\n",
    "    \n",
    "    # 提取特定信息\n",
    "    pattern = r'圣遗物搭配.*?队伍搭配'\n",
    "    match = re.search(pattern, text, re.DOTALL)\n",
    "    if match:\n",
    "        extracted_text = match.group()\n",
    "    else:\n",
    "        extracted_text = \"未找到相关信息\"\n",
    "    \n",
    "    # 打印提取的信息\n",
    "    print(\"提取的信息：\")\n",
    "    print(extracted_text)\n",
    "    \n",
    "    # 将提取的信息按字典序排列\n",
    "    lines = extracted_text.split('\\n')\n",
    "    sorted_lines = sorted(lines, key=lambda x: x.strip())\n",
    "    sorted_text = '\\n'.join(sorted_lines)\n",
    "    \n",
    "    print(\"按字典序排列后的信息：\")\n",
    "    print(sorted_text)\n",
    "\n",
    "img_path = \"./1.png\"\n",
    "processImage(img_path)"
   ]
  },
  {
   "cell_type": "code",
   "execution_count": 8,
   "id": "1e76c7ef-7625-4b25-9ac4-e47254aed6fd",
   "metadata": {},
   "outputs": [
    {
     "name": "stdout",
     "output_type": "stream",
     "text": [
      "提取的信息：\n"
     ]
    }
   ],
   "source": [
    "from cnocr import CnOcr\n",
    "import re\n",
    "\n",
    "# 初始化 CNOCR 实例\n",
    "# ocr = CnOcr(det_model_name='ch_PP-OCRv3_det', rec_model_name='ch_PP-OCRv3_rec')\n",
    "ocr = CnOcr(det_model_name='ch_PP-OCRv3_rec_infer')\n",
    "# 读取图像\n",
    "image_path = '1.png'  # 替换为你的图像文件路径\n",
    "result = ocr.ocr(image_path)\n",
    "\n",
    "# 提取特定信息\n",
    "extracted_info = []\n",
    "for line in result:\n",
    "    if '圣遗物搭配' in line['text']:\n",
    "        extracted_info.append(line['text'])\n",
    "\n",
    "# 打印提取的信息\n",
    "print(\"提取的信息：\")\n",
    "for info in extracted_info:\n",
    "    print(info)"
   ]
  },
  {
   "cell_type": "code",
   "execution_count": 10,
   "id": "37b7b66f-72b4-441a-b60f-262e838697af",
   "metadata": {},
   "outputs": [
    {
     "name": "stderr",
     "output_type": "stream",
     "text": [
      "[WARNING 2025-02-18 23:00:09,483 _assert_and_prepare_model_files:109] can not find model file C:\\Users\\C4Chen\\AppData\\Roaming\\cnstd\\1.2\\ppocr\\ch_PP-OCRv4_det\\ch_PP-OCRv4_det_infer.onnx \n"
     ]
    },
    {
     "ename": "FileNotFoundError",
     "evalue": "C:\\Users\\C4Chen\\AppData\\Roaming\\cnstd\\1.2\\ppocr\\ch_PP-OCRv4_det\\ch_PP-OCRv4_det_infer.onnx does not exists.",
     "output_type": "error",
     "traceback": [
      "\u001b[1;31m---------------------------------------------------------------------------\u001b[0m",
      "\u001b[1;31mFileNotFoundError\u001b[0m                         Traceback (most recent call last)",
      "Cell \u001b[1;32mIn[10], line 4\u001b[0m\n\u001b[0;32m      1\u001b[0m \u001b[38;5;28;01mfrom\u001b[39;00m \u001b[38;5;21;01mcnocr\u001b[39;00m \u001b[38;5;28;01mimport\u001b[39;00m CnOcr\n\u001b[0;32m      3\u001b[0m \u001b[38;5;66;03m# 初始化OCR对象\u001b[39;00m\n\u001b[1;32m----> 4\u001b[0m ocr \u001b[38;5;241m=\u001b[39m CnOcr()\n\u001b[0;32m      6\u001b[0m \u001b[38;5;66;03m# 读取图像文件\u001b[39;00m\n\u001b[0;32m      7\u001b[0m img_path \u001b[38;5;241m=\u001b[39m \u001b[38;5;124m'\u001b[39m\u001b[38;5;124m1.png\u001b[39m\u001b[38;5;124m'\u001b[39m   \u001b[38;5;66;03m# 替换为你的图像文件路径\u001b[39;00m\n",
      "File \u001b[1;32m~\\AppData\\Roaming\\Python\\Python312\\site-packages\\cnocr\\cn_ocr.py:170\u001b[0m, in \u001b[0;36mCnOcr.__init__\u001b[1;34m(self, rec_model_name, det_model_name, cand_alphabet, context, rec_model_fp, rec_model_backend, rec_vocab_fp, rec_more_configs, rec_root, det_model_fp, det_model_backend, det_more_configs, det_root, **kwargs)\u001b[0m\n\u001b[0;32m    168\u001b[0m \u001b[38;5;28;01mif\u001b[39;00m det_model_name \u001b[38;5;129;01min\u001b[39;00m DET_MODLE_NAMES:\n\u001b[0;32m    169\u001b[0m     det_more_configs \u001b[38;5;241m=\u001b[39m det_more_configs \u001b[38;5;129;01mor\u001b[39;00m \u001b[38;5;28mdict\u001b[39m()\n\u001b[1;32m--> 170\u001b[0m     \u001b[38;5;28mself\u001b[39m\u001b[38;5;241m.\u001b[39mdet_model \u001b[38;5;241m=\u001b[39m CnStd(\n\u001b[0;32m    171\u001b[0m         det_model_name,\n\u001b[0;32m    172\u001b[0m         model_backend\u001b[38;5;241m=\u001b[39mdet_model_backend,\n\u001b[0;32m    173\u001b[0m         context\u001b[38;5;241m=\u001b[39mcontext,\n\u001b[0;32m    174\u001b[0m         model_fp\u001b[38;5;241m=\u001b[39mdet_model_fp,\n\u001b[0;32m    175\u001b[0m         root\u001b[38;5;241m=\u001b[39mdet_root,\n\u001b[0;32m    176\u001b[0m         \u001b[38;5;241m*\u001b[39m\u001b[38;5;241m*\u001b[39mdet_more_configs,\n\u001b[0;32m    177\u001b[0m     )\n",
      "File \u001b[1;32m~\\AppData\\Roaming\\Python\\Python312\\site-packages\\cnstd\\cn_std.py:99\u001b[0m, in \u001b[0;36mCnStd.__init__\u001b[1;34m(self, model_name, auto_rotate_whole_image, rotated_bbox, context, model_fp, model_backend, root, use_angle_clf, angle_clf_configs, **kwargs)\u001b[0m\n\u001b[0;32m     94\u001b[0m \u001b[38;5;28;01melse\u001b[39;00m:\n\u001b[0;32m     95\u001b[0m     \u001b[38;5;28;01mraise\u001b[39;00m \u001b[38;5;167;01mNotImplementedError\u001b[39;00m(\n\u001b[0;32m     96\u001b[0m         \u001b[38;5;124m'\u001b[39m\u001b[38;5;132;01m%s\u001b[39;00m\u001b[38;5;124m is not supported currently\u001b[39m\u001b[38;5;124m'\u001b[39m \u001b[38;5;241m%\u001b[39m ((model_name, model_backend),)\n\u001b[0;32m     97\u001b[0m     )\n\u001b[1;32m---> 99\u001b[0m \u001b[38;5;28mself\u001b[39m\u001b[38;5;241m.\u001b[39mdet_model \u001b[38;5;241m=\u001b[39m det_cls(\n\u001b[0;32m    100\u001b[0m     model_name\u001b[38;5;241m=\u001b[39mmodel_name,\n\u001b[0;32m    101\u001b[0m     auto_rotate_whole_image\u001b[38;5;241m=\u001b[39mauto_rotate_whole_image,\n\u001b[0;32m    102\u001b[0m     rotated_bbox\u001b[38;5;241m=\u001b[39mrotated_bbox,\n\u001b[0;32m    103\u001b[0m     context\u001b[38;5;241m=\u001b[39mcontext,\n\u001b[0;32m    104\u001b[0m     model_fp\u001b[38;5;241m=\u001b[39mmodel_fp,\n\u001b[0;32m    105\u001b[0m     model_backend\u001b[38;5;241m=\u001b[39mmodel_backend,\n\u001b[0;32m    106\u001b[0m     root\u001b[38;5;241m=\u001b[39mroot,\n\u001b[0;32m    107\u001b[0m     \u001b[38;5;241m*\u001b[39m\u001b[38;5;241m*\u001b[39mkwargs,\n\u001b[0;32m    108\u001b[0m )\n\u001b[0;32m    110\u001b[0m \u001b[38;5;28mself\u001b[39m\u001b[38;5;241m.\u001b[39muse_angle_clf \u001b[38;5;241m=\u001b[39m use_angle_clf\n\u001b[0;32m    111\u001b[0m \u001b[38;5;28;01mif\u001b[39;00m \u001b[38;5;28mself\u001b[39m\u001b[38;5;241m.\u001b[39muse_angle_clf:\n",
      "File \u001b[1;32m~\\AppData\\Roaming\\Python\\Python312\\site-packages\\cnstd\\ppocr\\rapid_detector.py:95\u001b[0m, in \u001b[0;36mRapidDetector.__init__\u001b[1;34m(self, model_name, model_fp, root, context, limit_side_len, limit_type, thresh, box_thresh, max_candidates, unclip_ratio, use_dilation, score_mode, **kwargs)\u001b[0m\n\u001b[0;32m     81\u001b[0m use_gpu \u001b[38;5;241m=\u001b[39m context\u001b[38;5;241m.\u001b[39mlower() \u001b[38;5;129;01mnot\u001b[39;00m \u001b[38;5;129;01min\u001b[39;00m (\u001b[38;5;124m'\u001b[39m\u001b[38;5;124mcpu\u001b[39m\u001b[38;5;124m'\u001b[39m, \u001b[38;5;124m'\u001b[39m\u001b[38;5;124mmps\u001b[39m\u001b[38;5;124m'\u001b[39m)\n\u001b[0;32m     83\u001b[0m config \u001b[38;5;241m=\u001b[39m {\n\u001b[0;32m     84\u001b[0m     \u001b[38;5;124m\"\u001b[39m\u001b[38;5;124muse_cuda\u001b[39m\u001b[38;5;124m\"\u001b[39m: use_gpu,\n\u001b[0;32m     85\u001b[0m     \u001b[38;5;124m\"\u001b[39m\u001b[38;5;124mlimit_side_len\u001b[39m\u001b[38;5;124m\"\u001b[39m: limit_side_len,\n\u001b[1;32m   (...)\u001b[0m\n\u001b[0;32m     93\u001b[0m     \u001b[38;5;124m\"\u001b[39m\u001b[38;5;124mmodel_path\u001b[39m\u001b[38;5;124m\"\u001b[39m: \u001b[38;5;28mself\u001b[39m\u001b[38;5;241m.\u001b[39m_model_fp,\n\u001b[0;32m     94\u001b[0m }\n\u001b[1;32m---> 95\u001b[0m \u001b[38;5;28mself\u001b[39m\u001b[38;5;241m.\u001b[39m_detector \u001b[38;5;241m=\u001b[39m TextDetector(config)\n",
      "File \u001b[1;32m~\\AppData\\Roaming\\Python\\Python312\\site-packages\\rapidocr_onnxruntime\\ch_ppocr_det\\text_detect.py:43\u001b[0m, in \u001b[0;36mTextDetector.__init__\u001b[1;34m(self, config)\u001b[0m\n\u001b[0;32m     33\u001b[0m post_process \u001b[38;5;241m=\u001b[39m {\n\u001b[0;32m     34\u001b[0m     \u001b[38;5;124m\"\u001b[39m\u001b[38;5;124mthresh\u001b[39m\u001b[38;5;124m\"\u001b[39m: config\u001b[38;5;241m.\u001b[39mget(\u001b[38;5;124m\"\u001b[39m\u001b[38;5;124mthresh\u001b[39m\u001b[38;5;124m\"\u001b[39m, \u001b[38;5;241m0.3\u001b[39m),\n\u001b[0;32m     35\u001b[0m     \u001b[38;5;124m\"\u001b[39m\u001b[38;5;124mbox_thresh\u001b[39m\u001b[38;5;124m\"\u001b[39m: config\u001b[38;5;241m.\u001b[39mget(\u001b[38;5;124m\"\u001b[39m\u001b[38;5;124mbox_thresh\u001b[39m\u001b[38;5;124m\"\u001b[39m, \u001b[38;5;241m0.5\u001b[39m),\n\u001b[1;32m   (...)\u001b[0m\n\u001b[0;32m     39\u001b[0m     \u001b[38;5;124m\"\u001b[39m\u001b[38;5;124mscore_mode\u001b[39m\u001b[38;5;124m\"\u001b[39m: config\u001b[38;5;241m.\u001b[39mget(\u001b[38;5;124m\"\u001b[39m\u001b[38;5;124mscore_mode\u001b[39m\u001b[38;5;124m\"\u001b[39m, \u001b[38;5;124m\"\u001b[39m\u001b[38;5;124mfast\u001b[39m\u001b[38;5;124m\"\u001b[39m),\n\u001b[0;32m     40\u001b[0m }\n\u001b[0;32m     41\u001b[0m \u001b[38;5;28mself\u001b[39m\u001b[38;5;241m.\u001b[39mpostprocess_op \u001b[38;5;241m=\u001b[39m DBPostProcess(\u001b[38;5;241m*\u001b[39m\u001b[38;5;241m*\u001b[39mpost_process)\n\u001b[1;32m---> 43\u001b[0m \u001b[38;5;28mself\u001b[39m\u001b[38;5;241m.\u001b[39minfer \u001b[38;5;241m=\u001b[39m OrtInferSession(config)\n",
      "File \u001b[1;32m~\\AppData\\Roaming\\Python\\Python312\\site-packages\\rapidocr_onnxruntime\\utils\\infer_engine.py:34\u001b[0m, in \u001b[0;36mOrtInferSession.__init__\u001b[1;34m(self, config)\u001b[0m\n\u001b[0;32m     31\u001b[0m \u001b[38;5;28mself\u001b[39m\u001b[38;5;241m.\u001b[39mlogger \u001b[38;5;241m=\u001b[39m get_logger(\u001b[38;5;124m\"\u001b[39m\u001b[38;5;124mOrtInferSession\u001b[39m\u001b[38;5;124m\"\u001b[39m)\n\u001b[0;32m     33\u001b[0m model_path \u001b[38;5;241m=\u001b[39m config\u001b[38;5;241m.\u001b[39mget(\u001b[38;5;124m\"\u001b[39m\u001b[38;5;124mmodel_path\u001b[39m\u001b[38;5;124m\"\u001b[39m, \u001b[38;5;28;01mNone\u001b[39;00m)\n\u001b[1;32m---> 34\u001b[0m \u001b[38;5;28mself\u001b[39m\u001b[38;5;241m.\u001b[39m_verify_model(model_path)\n\u001b[0;32m     36\u001b[0m \u001b[38;5;28mself\u001b[39m\u001b[38;5;241m.\u001b[39mcfg_use_cuda \u001b[38;5;241m=\u001b[39m config\u001b[38;5;241m.\u001b[39mget(\u001b[38;5;124m\"\u001b[39m\u001b[38;5;124muse_cuda\u001b[39m\u001b[38;5;124m\"\u001b[39m, \u001b[38;5;28;01mNone\u001b[39;00m)\n\u001b[0;32m     37\u001b[0m \u001b[38;5;28mself\u001b[39m\u001b[38;5;241m.\u001b[39mcfg_use_dml \u001b[38;5;241m=\u001b[39m config\u001b[38;5;241m.\u001b[39mget(\u001b[38;5;124m\"\u001b[39m\u001b[38;5;124muse_dml\u001b[39m\u001b[38;5;124m\"\u001b[39m, \u001b[38;5;28;01mNone\u001b[39;00m)\n",
      "File \u001b[1;32m~\\AppData\\Roaming\\Python\\Python312\\site-packages\\rapidocr_onnxruntime\\utils\\infer_engine.py:224\u001b[0m, in \u001b[0;36mOrtInferSession._verify_model\u001b[1;34m(model_path)\u001b[0m\n\u001b[0;32m    222\u001b[0m model_path \u001b[38;5;241m=\u001b[39m Path(model_path)\n\u001b[0;32m    223\u001b[0m \u001b[38;5;28;01mif\u001b[39;00m \u001b[38;5;129;01mnot\u001b[39;00m model_path\u001b[38;5;241m.\u001b[39mexists():\n\u001b[1;32m--> 224\u001b[0m     \u001b[38;5;28;01mraise\u001b[39;00m \u001b[38;5;167;01mFileNotFoundError\u001b[39;00m(\u001b[38;5;124mf\u001b[39m\u001b[38;5;124m\"\u001b[39m\u001b[38;5;132;01m{\u001b[39;00mmodel_path\u001b[38;5;132;01m}\u001b[39;00m\u001b[38;5;124m does not exists.\u001b[39m\u001b[38;5;124m\"\u001b[39m)\n\u001b[0;32m    226\u001b[0m \u001b[38;5;28;01mif\u001b[39;00m \u001b[38;5;129;01mnot\u001b[39;00m model_path\u001b[38;5;241m.\u001b[39mis_file():\n\u001b[0;32m    227\u001b[0m     \u001b[38;5;28;01mraise\u001b[39;00m \u001b[38;5;167;01mFileExistsError\u001b[39;00m(\u001b[38;5;124mf\u001b[39m\u001b[38;5;124m\"\u001b[39m\u001b[38;5;132;01m{\u001b[39;00mmodel_path\u001b[38;5;132;01m}\u001b[39;00m\u001b[38;5;124m is not a file.\u001b[39m\u001b[38;5;124m\"\u001b[39m)\n",
      "\u001b[1;31mFileNotFoundError\u001b[0m: C:\\Users\\C4Chen\\AppData\\Roaming\\cnstd\\1.2\\ppocr\\ch_PP-OCRv4_det\\ch_PP-OCRv4_det_infer.onnx does not exists."
     ]
    }
   ],
   "source": [
    "from cnocr import CnOcr\n",
    "\n",
    "# 初始化OCR对象\n",
    "ocr = CnOcr()\n",
    "\n",
    "# 读取图像文件\n",
    "img_path = '1.png'   # 替换为你的图像文件路径\n",
    "with open(img_path, 'rb') as f:\n",
    "    img_data = f.read()\n",
    "\n",
    "# 使用OCR提取文字\n",
    "result = ocr.ocr(img_data, cls=True)\n",
    "\n",
    "# 输出提取结果\n",
    "for line in result:\n",
    "    print(f\"文本: {line[1][0]}, 置信度: {line[1][1]}\")"
   ]
  },
  {
   "cell_type": "code",
   "execution_count": null,
   "id": "00420c4e-f006-4634-8be3-d34992ecd7fa",
   "metadata": {},
   "outputs": [],
   "source": []
  }
 ],
 "metadata": {
  "kernelspec": {
   "display_name": "Python 3 (ipykernel)",
   "language": "python",
   "name": "python3"
  },
  "language_info": {
   "codemirror_mode": {
    "name": "ipython",
    "version": 3
   },
   "file_extension": ".py",
   "mimetype": "text/x-python",
   "name": "python",
   "nbconvert_exporter": "python",
   "pygments_lexer": "ipython3",
   "version": "3.12.7"
  }
 },
 "nbformat": 4,
 "nbformat_minor": 5
}
